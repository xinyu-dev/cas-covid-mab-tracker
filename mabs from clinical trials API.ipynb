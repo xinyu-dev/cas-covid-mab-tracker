{
 "cells": [
  {
   "cell_type": "markdown",
   "metadata": {
    "pycharm": {
     "name": "#%% md\n"
    }
   },
   "source": [
    "# Using clinicaltrials.gov API for extracting information on COVID-19 antibodies"
   ]
  },
  {
   "cell_type": "markdown",
   "metadata": {
    "pycharm": {
     "name": "#%% md\n"
    }
   },
   "source": [
    "# Background\n",
    "\n",
    "1. We will use the \"full-study\" API to extract results. The API returns a max of 100 hits each time. So we need to iterate through all hits, 100 each time, until the end\n",
    "\n",
    "2. We're interested in extracting the following data:\n",
    "\n",
    "  Inclusion criteria:\n",
    "  - COVID-19 indication\n",
    "  - Antibody treatments, combination treatments involving antibodies\n",
    "\n",
    "  Exclusion criteria:\n",
    "  - Entries describing preclinical or clinical development of diagnostic antibodies, polyclonal antibodies, convalescent plasma therapies, immune globulin intravenous therapies (IGIV), vaccines, small molecules, and recombinant proteins other than immunoglobin (Ig), Ig fragments, and Ig fusion proteins were removed from our collection. Studies and clinical trials without explicitly stating COVID-19 or SARS-CoV-2 as their indication or target were also eliminated\n",
    "\n",
    "\n",
    "3. Shown below are some useful resources on the JSON data from \"full-study\" queries. **Note that NOT ALL of these fields will be available for an unique study, so it is recommended to use `try...except` to avoid extracting data from a non-existent field**\n",
    "\n",
    "   - [List of study fields](https://clinicaltrials.gov/api/info/study_fields_list)\n",
    "   - [Empty structure of JSON returned from a full-study query](https://clinicaltrials.gov/api/info/study_structure)\n",
    "   - [Search areas](https://clinicaltrials.gov/api/info/search_areas) : Note that regardless of the hierarchy of the fields in JSON, you can use the search areas directly in the `expr` param (see code)\n",
    "\n",
    "4. Caveat: Manual inspection of the returned results from the script is strongly recommended to ensure relevancy.\n"
   ]
  },
  {
   "cell_type": "markdown",
   "metadata": {
    "pycharm": {
     "name": "#%% md\n"
    }
   },
   "source": [
    "# How to format your query\n",
    "\n",
    "There are 2 ways:"
   ]
  },
  {
   "cell_type": "markdown",
   "metadata": {
    "pycharm": {
     "name": "#%% md\n"
    }
   },
   "source": [
    "## 1. Single field search\n",
    "\n",
    "```python\n",
    "url=\"https://ClinicalTrials.gov/api/query/full_studies\"\n",
    "params={\n",
    "    \"expr\": \"NCT04320615\",\n",
    "    \"field\": \"NCTId\",\n",
    "    \"min_rnk\": 1,\n",
    "    \"max_rnk\": 1,\n",
    "    \"fmt\": \"JSON\"\n",
    "}\n",
    "\n",
    "data=requests.get(url, params=params).json()\n",
    "```\n",
    "\n",
    "Parameters:\n",
    "- `expr`: value for the field that you want to earch\n",
    "- `field`: what field to search. Can only be a single field\n",
    "- `fields`: fields to return. Only applies to \"Study Fields\" queries. \"Full-Study\" queries return all fields,  therefore is NOT affected by this parameter\n",
    "- `min_rnk` and `max_rnk`: When you submit a query, hits are numbered from 1 to xxxx (the last hit). For full-studies, each time you can only retrieve 100 hits. Use this parameter specifify the \"index\" of the hits that you want to retrieve. E.g. 1-100, 101-200, ....Use these parameters to iterate through hits to extract them all in to sqlite database.\n",
    "- `fmt`: format, specify as `\"JSON\"`"
   ]
  },
  {
   "cell_type": "markdown",
   "metadata": {
    "pycharm": {
     "name": "#%% md\n"
    }
   },
   "source": [
    "## 2. Multiple Field Search (RECOMMENDED)\n",
    "\n",
    "A barebone multi-field search request looks like this:\n",
    "\n",
    "```python\n",
    "url=\"https://ClinicalTrials.gov/api/query/full_studies\"\n",
    "params={\n",
    "    \"expr\": \"AREA[NCTId]NCT04320615\",\n",
    "    \"min_rnk\": 1,\n",
    "    \"max_rnk\": 1,\n",
    "    \"fmt\": \"JSON\"\n",
    "}\n",
    "\n",
    "data=requests.get(url, params=params).json()\n",
    "```\n",
    "\n",
    "Parameters:\n",
    "- `expr`: use an expression string. For how to structure the string, see [ref on logical operators](https://clinicaltrials.gov/api/gui/ref/expr).\n",
    "\n",
    "  A simple example of the string query:\n",
    "  ```\n",
    "  AREA[InterventionDescription]antibody  NOT AREA[InterventionType]diagnostic\n",
    "  ```\n",
    "\n",
    "  Note that regardless of the hierachy of the field in JSON, you can search the field directly using the string query above. The API also appears to have some abilities to match synonymous words - e.g. COVID-19 will automatically cover covid19, etc."
   ]
  },
  {
   "cell_type": "markdown",
   "metadata": {},
   "source": [
    "## 3. How many hits are there in my query?\n",
    "\n",
    "The number of hits matching your query can be found in the `data['FullStudiesResponse']['NStudiesFound']` parameter. For example:\n",
    "\n",
    "```python\n",
    "\n",
    "url=\"https://ClinicalTrials.gov/api/query/full_studies\"\n",
    "\n",
    "params={\n",
    "    \"expr\": \"AREA[Condition]COVID-19\",\n",
    "    \"fmt\": \"JSON\",\n",
    "    \"min_rnk\": 1,\n",
    "    \"max_rnk\": 1\n",
    "\n",
    "}\n",
    "data=requests.get(url, params=params).json()\n",
    "\n",
    "# total number of trials in the database\n",
    "print(\"Total number of studies: \", data['FullStudiesResponse']['NStudiesAvail'])\n",
    "\n",
    "# total number of trials found matching your query\n",
    "print(\"Total number of trials mathcing query: \", data['FullStudiesResponse']['NStudiesFound'])\n",
    "\n",
    "```"
   ]
  },
  {
   "cell_type": "markdown",
   "metadata": {
    "pycharm": {
     "name": "#%% md\n"
    }
   },
   "source": [
    "# Example Code"
   ]
  },
  {
   "cell_type": "markdown",
   "metadata": {
    "pycharm": {
     "name": "#%% md\n"
    }
   },
   "source": [
    "## Imports"
   ]
  },
  {
   "cell_type": "code",
   "execution_count": 1,
   "metadata": {
    "jupyter": {
     "outputs_hidden": false
    },
    "pycharm": {
     "name": "#%%\n"
    }
   },
   "outputs": [],
   "source": [
    "import requests\n",
    "import sqlite3\n",
    "import pandas as pd\n",
    "from datetime import datetime"
   ]
  },
  {
   "cell_type": "markdown",
   "metadata": {},
   "source": [
    "## Generate a dataframe to save output"
   ]
  },
  {
   "cell_type": "code",
   "execution_count": 2,
   "metadata": {},
   "outputs": [],
   "source": [
    "columns = ['category', 'nctid', 'name', 'phase', 'summary']\n",
    "df = pd.DataFrame(columns=columns)"
   ]
  },
  {
   "cell_type": "markdown",
   "metadata": {
    "pycharm": {
     "name": "#%% md\n"
    }
   },
   "source": [
    "## Base url"
   ]
  },
  {
   "cell_type": "code",
   "execution_count": 3,
   "metadata": {
    "jupyter": {
     "outputs_hidden": false
    },
    "pycharm": {
     "name": "#%%\n"
    }
   },
   "outputs": [],
   "source": [
    "url=\"https://ClinicalTrials.gov/api/query/full_studies\""
   ]
  },
  {
   "cell_type": "markdown",
   "metadata": {
    "pycharm": {
     "name": "#%% md\n"
    }
   },
   "source": [
    "## Get nctiID, mabs, and trial status from entries currently in the database"
   ]
  },
  {
   "cell_type": "code",
   "execution_count": 4,
   "metadata": {
    "jupyter": {
     "outputs_hidden": false
    },
    "pycharm": {
     "name": "#%%\n"
    }
   },
   "outputs": [],
   "source": [
    "# connect to SQLITE database\n",
    "conn = sqlite3.connect('covid_mabs.sqlite')\n",
    "cur = conn.cursor()\n",
    "\n",
    "# get a list of nctid, its corresponding mabs and clinical trial phases currently in the database\n",
    "nctidList, mabList, phaseList = [], [], []\n",
    "cur.execute(\"select nctid, name, phase from covid_clinical_trials_API\")\n",
    "for item in cur.fetchall(): # a list of tuples\n",
    "    nctidList.append(item[0])\n",
    "    mabList.append(item[1])\n",
    "    phases = sorted([p.strip() for p in item[2].split(',')])\n",
    "    phaseList.append(phases)"
   ]
  },
  {
   "cell_type": "markdown",
   "metadata": {
    "pycharm": {
     "name": "#%% md\n"
    }
   },
   "source": [
    "## Update clinical trial phase for entries in the current database"
   ]
  },
  {
   "cell_type": "code",
   "execution_count": 5,
   "metadata": {
    "pycharm": {
     "name": "#%%\n"
    }
   },
   "outputs": [],
   "source": [
    "# define function to get clinical trial phase using nctid\n",
    "def get_trial_phase(nctID):\n",
    "    \"\"\"\n",
    "    retrieve phase status based on nctID. If for some reason the phase status cannot be extracted, an error message will be printed\n",
    "    :param nctID: string, nctid identifier\n",
    "    :return: list, a list clinical trial phase(s), such as ['Phase 1', 'Phase 2']\n",
    "    \"\"\"\n",
    "    params={\n",
    "        \"expr\": \"AREA[NCTId]\" + nctID,\n",
    "        \"min_rnk\": 1,\n",
    "        \"max_rnk\": 1,\n",
    "        \"fmt\": \"JSON\"\n",
    "    }\n",
    "\n",
    "    data=requests.get(url, params=params).json()\n",
    "    try:\n",
    "        phaseList=data['FullStudiesResponse']['FullStudies'][0]['Study']['ProtocolSection']['DesignModule']['PhaseList']['Phase']\n",
    "        return sorted(phaseList)\n",
    "    except:\n",
    "        print(\"\\nExtraction error occured for NCTId = \" + nctID +'\\n')"
   ]
  },
  {
   "cell_type": "code",
   "execution_count": 6,
   "metadata": {
    "pycharm": {
     "name": "#%%\n"
    }
   },
   "outputs": [
    {
     "name": "stdout",
     "output_type": "stream",
     "text": [
      "\n",
      "Extraction error occured for NCTId = NCT04346277\n",
      "\n"
     ]
    }
   ],
   "source": [
    "# print trials whose clinical trial phases differ in the API and db\n",
    "for nctid, mab, old_phase in zip(nctidList, mabList, phaseList):\n",
    "    new_phase = get_trial_phase(nctid)\n",
    "    if new_phase is None:\n",
    "        continue\n",
    "    elif new_phase == ['Not Applicable']:\n",
    "        continue\n",
    "    elif all(item in old_phase for item in new_phase):\n",
    "        continue\n",
    "    else:\n",
    "        print(nctid)\n",
    "        print(\"Old phase: \", old_phase)\n",
    "        print(\"New phase: \", new_phase )\n",
    "        print(\"\\n\")\n",
    "        \n",
    "        new_item = {'category': 'need to update phase', \n",
    "                    'nctid': nctid, \n",
    "                    'name': ', '.join(list(set(mab))), \n",
    "                    'phase': ', '.join(new_phase), \n",
    "                    'summary': ''}\n",
    "        df = df.append(new_item, ignore_index=True)"
   ]
  },
  {
   "cell_type": "markdown",
   "metadata": {
    "pycharm": {
     "name": "#%% md\n"
    }
   },
   "source": [
    "## Query Version 1\n",
    "\n",
    "Search \"mab\" in InterventionName. Note this produces a narrower result than searching \"mab\" in \"DetailedDescription\" or \"BriefSummary\".\n",
    "\n",
    "Note that:\n",
    "1. Use `AREA[InterventionName]mab` might miss many hits"
   ]
  },
  {
   "cell_type": "markdown",
   "metadata": {
    "pycharm": {
     "name": "#%% md\n"
    }
   },
   "source": [
    "### 1. Get total number of hits"
   ]
  },
  {
   "cell_type": "code",
   "execution_count": 7,
   "metadata": {
    "jupyter": {
     "outputs_hidden": false
    },
    "pycharm": {
     "name": "#%%\n"
    }
   },
   "outputs": [
    {
     "data": {
      "text/plain": [
       "2124"
      ]
     },
     "execution_count": 7,
     "metadata": {},
     "output_type": "execute_result"
    }
   ],
   "source": [
    "# parameters for query\n",
    "\n",
    "params={\n",
    "    \"expr\": \"AREA[Condition]COVID-19 NOT AREA[InterventionType]diagnostic NOT AREA[InterventionType]convalescent NOT AREA[InterventionType]plasma NOT AREA[OfficialTitle]convalescent NOT AREA[OfficialTitle]seroprevalence NOT AREA[OfficialTitle]serological NOT AREA[OfficialTitle]plasma NOT AREA[OfficialTitle]test NOT AREA[OfficialTitle]prevalence NOT AREA[OfficialTitle]polyvalent\",\n",
    "    \"fmt\": \"JSON\",\n",
    "    \"min_rnk\": 1,  # starting index number (default 1, don't put 0 here)\n",
    "    \"max_rnk\": 1   # retrieve 1 record, so we can obtain the value of totalMatches\n",
    "}\n",
    "\n",
    "response=requests.get(url, params=params)\n",
    "data=response.json()\n",
    "totalMatches=data['FullStudiesResponse']['NStudiesFound']\n",
    "\n",
    "totalMatches"
   ]
  },
  {
   "cell_type": "code",
   "execution_count": 8,
   "metadata": {
    "jupyter": {
     "outputs_hidden": false
    },
    "pycharm": {
     "name": "#%%\n"
    }
   },
   "outputs": [
    {
     "name": "stdout",
     "output_type": "stream",
     "text": [
      "NCT04479358\n",
      "['Tocilizumab']\n",
      "['Phase 2']\n",
      "Not yet recruiting\n",
      "COVID-19's high mortality may be driven by hyperinflammation. Interleukin-6 (IL-6) axis therapies may reduce COVID-19 mortality. Retrospective analyses of tocilizumab in severe to critical COVID-19 patients have demonstrated survival advantage and lower likelihood of requiring invasive ventilation following tocilizumab administration. The majority of patients have rapid resolution (i.e., within 24-72 hours following administration) of both clinical and biochemical signs (fever and CRP, respectively) of hyperinflammation with only a single tocilizumab dose.\n",
      "\n",
      "The investigators hypothesized that a dose of tocilizumab significantly lower than the EMA- and FDA-labeled dose (8mg/kg) as well as the emerging standard of care dose (400mg) may be effective in patients with COVID-19 pneumonitis and hyperinflammation. Advantages to the lower dose of tocilizumab may include lower likelihood of secondary bacterial infections as well as extension of this drug's limited supply. The investigators conducted an adaptive single-arm phase 2 trial (NCT04331795) evaluating clinical and biochemical response to low-dose tocilizumab in patients with COVID-19 pneumonitis and hyperinflammation.\n",
      "\n",
      "This multi-center, prospective, randomized controlled phase 2 trial -- designed as two sub-studies to allow for the possible emergence of data demonstrating the clinical efficacy of tocilizumab 8mg/kg or 400mg -- formally tests the clinical efficacy of low-dose tocilizumab in COVID-19 pneumonia.\n",
      "\n",
      "Sub-Study A Primary Objective A: To establish whether low-dose tocilizumab reduces the time to clinical recovery in patients with COVID-19 pneumonitis and hyperinflammation, when compared to a tocilizumab-free standard of care.\n",
      "\n",
      "Hypothesis A: The investigators hypothesize that low-dose tocilizumab, when compared to a tocilizumab-free standard of care, decreases the time to recovery in hospitalized, non-invasively ventilated patients with COVID-19 pneumonitis and hyperinflammation by three days or more.\n",
      "\n",
      "Sub-Study B Primary Objective B: To establish whether low-dose tocilizumab is near-equivalent to high-dose tocilizumab (400mg or 8 mg/kg) in reducing the time to clinical recovery in patients with COVID-19 pneumonitis and hyperinflammation.\n",
      "\n",
      "Hypothesis B: The investigators hypothesize that low-dose tocilizumab is near-equivalent to high-dose tocilizumab in reducing the time to clinical recovery in hospitalized, non-invasively ventilated patients with COVID-19 pneumonitis and hyperinflammation.\n",
      "\n",
      "\n",
      "\n",
      "NCT04452474\n",
      "['Olokizumab 64 mg']\n",
      "['Phase 2', 'Phase 3']\n",
      "Not yet recruiting\n",
      "The primary objective of the study is to evaluate the efficacy of a single dose of OKZ (64 mg) vs placebo in addition to standard therapy in patients with severe SARS-CoV-2 infection (COVID-19) at Day 29.\n",
      "\n",
      "\n",
      "\n",
      "NCT04445272\n",
      "['Tocilizumab']\n",
      "['Phase 2']\n",
      "Recruiting\n",
      "At present, no treatment has been approved for COVID-19. However, in light of the increased interest on using the anti-cytokine therapy targeting IL-6 tocilizumab in COVID-19 infected patients due to its potential benefit, the Spanish Agency for Medicine and Health Products (Agencia Española de Medicamentos y Productos Sanitarios, AEMPS) have initiated the controlled distribution of the drug. Tocilizumab is indeed proposed as a potential treatment for severe COVID-19 in Spain. Based on the positive results of tocilizumab in the treatment of COVID-19 patients and the experience of tocilizumab in inducing rapid reversal of CSS in other pathologies several clinical trials and observational studies are being conducted to assess the effectiveness and safety of tocilizumab in COVID-19 patients. Further studies with a large sample size are required to confirm the effectiveness of tocilizumab in patients with COVID-19 pneumonia.\n",
      "\n",
      "The need for the management of severe COVID-19 disease is imperative, and every effort should be made to collect relevant clinical outcomes. The aim of the present study is to evaluate the effectiveness of IV tocilizumab in treating patients with COVID-19 pneumonia who are currently hospitalized or admitted to ICU by describing improvement of respiratory function and mortality rate. This large real-world cohort therefore provides a unique opportunity to study this potential medicine during the current emergency situation, and support the findings from other ongoing clinical trials and observational studies, such as the Roche-sponsored Phase III study that is planned to start early April.\n",
      "\n",
      "\n",
      "\n",
      "NCT04412772\n",
      "['Tocilizumab']\n",
      "['Phase 3']\n",
      "Recruiting\n",
      "The overall objective is to evaluate the clinical efficacy and safety of tocilizumab relative to placebo among approximately 300 hospitalized adult patients who have severe COVID-19. The study will be a 2 arm double blinded comparison between tocilizumab 8 mg/kg and matching placebo IV. The dose may be repeated in 8-12 hours if clinical symptoms worsens, (e.g. increase in oxygen requirements). Participants will be followed for 28 days.\n",
      "\n",
      "\n",
      "\n",
      "NCT04397562\n",
      "['Levilimab']\n",
      "['Phase 3']\n",
      "Active, not recruiting\n",
      "The objective: to study the efficacy and safety of levilimab in subjects with severe COVID-19.\n",
      "\n",
      "\n",
      "\n",
      "NCT04381052\n",
      "['Clazakizumab']\n",
      "['Phase 2']\n",
      "Not yet recruiting\n",
      "In this study, the investigators propose to administer clazakizumab to patients with life-threatening Coronavirus Disease 2019 (COVID-19) infection manifest by pulmonary failure and a clinical picture consistent with a cytokine storm syndrome. This is a single-center randomized, double-blind, placebo-controlled trial in which 30 patients will be enrolled and randomly assigned in a 1:1 ratio to two study arms and receive clazakizumab at a dose of 25 mg or placebo.\n",
      "\n",
      "\n",
      "\n",
      "NCT04377659\n",
      "['Tocilizumab']\n",
      "['Phase 2']\n",
      "Recruiting\n",
      "The purpose of this study is to find out whether the study drug tocilizumab is an effective treatment for COVID-19 infection.\n",
      "\n",
      "\n",
      "\n",
      "NCT04345445\n",
      "['Tocilizumab']\n",
      "['Phase 3']\n",
      "Not yet recruiting\n",
      "This study aims to compare the efficacy and safety of Methylprednisolone versus Tocilizumab in improving clinical outcomes and reducing the need for ventilator support in COVID-19 patients with moderate COVID-19 disease at risk for complications of cytokine storm. Approximately 310 participants hospitalized with COVID-19 in UMMC, Hospital Sungai Buloh, Hospital Kuala Lumpur and Hospital Tuanku Jaafar will be enrolled into this study.\n",
      "\n",
      "Eligible participants will be selected based on a set of clinical, laboratory and radiological parameters indicative of early stages of CRS and lung function decline prior to being randomized at a ratio of 1:1 to receive either Tocilizumab or Methylprednisolone. Participants will be monitored daily for clinical and laboratory parameters, and at 48 hours, switched to the alternate study arm should they manifest signs and symptoms indicative of decompensation.\n",
      "\n",
      "\n",
      "\n",
      "NCT04332094\n",
      "['Tocilizumab']\n",
      "['Phase 2']\n",
      "Recruiting\n",
      "COVID-19 is a respiratory disease caused by the new coronavirus (SARS-CoV-2) and causes considerable morbidity and mortality.\n",
      "\n",
      "Currently, there is no vaccine or therapeutic agent to prevent and treat a SARS-CoV-2 infection. This clinical trial is designed to evaluate the use of Tocilizumab in combination with hydroxychloroquine and azithromycin for the treatment of hospitalized adult patients with COVID-19.\n",
      "\n",
      "\n",
      "\n",
      "NCT04331795\n",
      "['Tocilizumab']\n",
      "['Phase 2']\n",
      "Completed\n",
      "Coronavirus disease-2019 (COVID-19) has a quoted inpatient mortality as high as 25%. This high mortality may be driven by hyperinflammation resembling cytokine release syndrome (CRS), offering the hope that therapies targeting the interleukin-6 (IL-6) axis therapies commonly used to treat CRS can be used to reduce COVID-19 mortality. Retrospective analysis of severe to critical COVID-19 patients receiving tocilizumab demonstrated that the majority of patients had rapid resolution (i.e., within 24-72 hours following administration) of both clinical and biochemical signs (fever and CRP, respectively) of hyperinflammation with only a single tocilizumab dose.\n",
      "\n",
      "Hypotheses:\n",
      "\n",
      "Tocilizumab is effective in decreasing signs, symptoms, and laboratory evidence of COVID-19 pneumonitis in hospitalized, non-critically ill patients with clinical risk factors for clinical decompensation, intensive care utilization, and death.\n",
      "Low-dose tocilizumab is effective in decreasing signs, symptoms, and laboratory evidence of COVID-19 pneumonitis in hospitalized, non-critically ill patients with and without clinical risk factors for clinical decompensation, intensive care utilization, and death.\n",
      "\n",
      "Objectives:\n",
      "\n",
      "To establish proof of concept that tocilizumab is effective in decreasing signs, symptoms, and laboratory evidence of COVID-19 pneumonitis in hospitalized, non-critically ill patients with clinical risk factors for clinical decompensation, intensive care utilization, and death, as determined by the clinical outcome of resolution of fever and the biochemical outcome measures of time to CRP normalization for the individual patient and the rate of patients whose CRP normalize.\n",
      "To establish proof of concept that low-dose tocilizumab is effective in decreasing signs, symptoms, and laboratory evidence of COVID-19 pneumonitis in hospitalized, non-critically ill patients without clinical risk factors for clinical decompensation, intensive care utilization, and death, as determined by the clinical outcome of resolution of fever and the biochemical outcome measures of time to CRP normalization for the individual patient and the rate of patients whose CRP normalize.\n",
      "\n",
      "\n",
      "\n",
      "NCT04310228\n",
      "['Favipiravir Combined With Tocilizumab', 'Tocilizumab']\n",
      "['Not Applicable']\n",
      "Recruiting\n",
      "The purpose of this study is to evaluate the efficacy and safety of favipiravir combined with tocilizumab in the treatment of corona virus disease 2019.\n",
      "\n",
      "\n",
      "\n",
      "NCT04494724\n",
      "['Clazakizumab']\n",
      "['Phase 2']\n",
      "Recruiting\n",
      "The purpose of this study is to investigate the effectiveness and safety of treatment with clazakizumab compared to a placebo (inactive substance). We are proposing to try this drug to treat coronavirus disease 2019 (COVID-19) infection. Patients with COVID-19 infection have been shown to have increases in certain inflammatory processes. Clazakizumab is an antibody (immune system protein) that blocks certain inflammatory processes. The treatment plan is to attempt to inhibit or block these inflammatory processes in order to try to limit the damage COVID-19 causes to the lungs.\n",
      "\n",
      "\n",
      "\n",
      "NCT04460105\n",
      "['Lanadelumab']\n",
      "['Phase 1']\n",
      "Recruiting\n",
      "The purpose of this study is to evaluate the safety, pharmacokinetic and pharmacodynamics of lanadelumab administered by intravenous (IV) infusion when added to standard-of-care (SoC) in adults hospitalized with COVID-19 pneumonia.\n",
      "\n",
      "\n",
      "\n"
     ]
    },
    {
     "name": "stdout",
     "output_type": "stream",
     "text": [
      "NCT04409262\n",
      "['Tocilizumab']\n",
      "['Phase 3']\n",
      "Recruiting\n",
      "This study will evaluate the efficacy and safety of combination therapy with remdesivir plus tocilizumab compared with remdesivir plus placebo in hospitalized patients with COVID-19 pneumonia.\n",
      "\n",
      "\n",
      "\n",
      "NCT04372186\n",
      "['Tocilizumab']\n",
      "['Phase 3']\n",
      "Active, not recruiting\n",
      "This study will evaluate the efficacy and safety of tocilizumab (TCZ) compared with a placebo in combination with standard of care (SOC) in hospitalized participants with COVID-19 pneumonia.\n",
      "\n",
      "\n",
      "\n",
      "NCT04363736\n",
      "['Tociliuzumab']\n",
      "['Phase 2']\n",
      "Completed\n",
      "This study will assess the pharmacodynamics, pharmacokinetics, safety and efficacy of two different doses of tocilizumab (TCZ) in combination with standard-of-care (SOC) in hospitalized adult participants with moderate to severe COVID-19 pneumonia.\n",
      "\n",
      "\n",
      "\n",
      "NCT04346355\n",
      "['Tocilizumab']\n",
      "['Phase 2']\n",
      "Terminated\n",
      "The clinical study aims at assessing whether early administration of Tocilizumab compared to late administration of Tocilizumab can reduce the number of patients with COVID-19 pneumonia who require mechanical ventilation. The clinical study includes patients with recent-onset COVID-19 pneumonia who require hospital care, but not invasive or semi-invasive mechanical ventilation procedures.\n",
      "\n",
      "\n",
      "\n",
      "NCT04317092\n",
      "['Tocilizumab Injection']\n",
      "['Phase 2']\n",
      "Recruiting\n",
      "This study project includes a single-arm phase 2 study and a parallel observational cohort study, enrolling patients with COVID-19 pneumonia.\n",
      "\n",
      "\n",
      "\n",
      "NCT02735707\n",
      "['Tocilizumab', 'Sarilumab']\n",
      "['Phase 4']\n",
      "Recruiting\n",
      "REMAP-CAP is a randomised, embedded, multifactorial, adaptive platform trial for community-acquired pneumonia.\n",
      "\n",
      "The purpose of this study is to evaluate the effect of a range of interventions to improve outcome of patients admitted to intensive care with community-acquired pneumonia.\n",
      "\n",
      "In addition, REMAP-CAP provides and adaptive research platform for evaluation of multiple treatment modalities in the event of a respiratory pandemic resulting in critical illness.\n",
      "\n",
      "REMAP-COVID is a sub-platform of REMAP-CAP that evaluates treatments specific to COVID-19.\n",
      "\n",
      "\n",
      "\n",
      "NCT04435717\n",
      "['Tocilizumab 20 MG/ML Intravenous Solution [ACTEMRA]_#1 (2 doses)', 'Tocilizumab 20 MG/ML Intravenous Solution [ACTEMRA]_#1']\n",
      "['Phase 2']\n",
      "Recruiting\n",
      "unicenter, randomized, open-label clinical trial on the efficacy of tocilizumab in modifying the inflammatory parameters of patients with COVID-19.\n",
      "\n",
      "\n",
      "\n",
      "NCT04424056\n",
      "['Tocilizumab and Ruxolitinib (Advanced stage 3)', 'Tocilizumab +/- ruxolitinib (stages 2b/3)']\n",
      "['Phase 3']\n",
      "Not yet recruiting\n",
      "COVID19-associated disease may have different clinical aspects classified in 3 stages. Some patients initially presenting with a non-hypoxemic viral pneumonia (stage 2a) may evolve toward a more severe stage 2b or 3 (acute respiratory distress syndrome, ARDS) around the 7th or 10th day of evolution, with a severe biological inflammatory syndrome (CRP>200 mg/l), and some times more severe complications such as acute renal insufficiency, consumptive coagulopathy or shock, requiring increasing oxygen therapy, ICU admission, invasive mechanical ventilation and possibly leading to death. This detrimental evolution is due to a host-derived \"cytokine storm\" with a great excess of circulating inflammatory cytokines. In animal models of ARDS complicating coronavirus or influenza virus infection, the cytokine storm has been linked to hyperactivation of the NLRP3 inflammasome. NLRP3 constitutes an intracellular protein platform which is responsible for caspase1 activation and processing of interleukin (IL)-1beta and IL-18 . IL-1b is a major proinflammatory cytokine which induces IL-6, whereas IL-18 is an inducer of interferon gamma (IFNg) production by Th-1 lymphocytes. A blood IL-1/IL-6 signature can be defined by increased neutrophilia and CRP concentrations, whereas an IL-18/IFNg signature is characterized by severe hyperferritinemia, consumptive coagulopathy and cytopenia. A majority of patients with COVID-19 infections seems to have an IL-1/IL-6 signature, evolving in the more severe forms toward an IL-18/IFNg signature, mimicking cytokine profiles observed in other inflammatory diseases such as Still's disease or hemophagocytic syndromes. In Still's disease, therapeutic inhibition of IL-1 or IL-6 has proven to be very efficient strategies. During hemophagocytic syndromes, inhibition of IFNg is effective in humans notably through blockade of its receptor signalization, using the JAK kinase inhibitor ruxolitinib.\n",
      "\n",
      "Following this strategy, we propose to use biological drugs currently available for inhibition of IL-1 (anakinra), IL-6 (tocilizumab) or IFNg signaling (ruxolitinib) in the severe forms of COVID19-associated disease. Our hypothesis is that IL-1, IL-6 or JAK kinase inhibition will allow:\n",
      "\n",
      "to prevent stage 2b worsening and the need to be admitted in ICU, by decreasing oxygen-requirement and systemic inflammation\n",
      "to improve stage 3 and extremely severe stage 3, allowing invasive mechanical ventilation weaning, improving multi-system organ dysfunction, leading to a faster ICU exit.\n",
      "\n",
      "We propose an open randomized therapeutic trial (1/1/1) on 216 patients with severe stage 2b and 3 of the disease\n",
      "\n",
      "\n",
      "\n",
      "NCT04390464\n",
      "['Ravulizumab']\n",
      "['Phase 4']\n",
      "Recruiting\n",
      "TACTIC-R is a randomised, parallel arm, open-label platform trial for investigating potential treatment for COVID-19 disease. While SARS-CoV infection evades detection by the immune system in the first 24 hours of infection, it ultimately produces a massive immune system response in the subgroup of people who develop severe complications. Most tissue damage following infection with COVID19 appears to be due to a later, exaggerated, host immune response. This leads to lung and sometimes multi-organ damage.\n",
      "\n",
      "Most people who develop these severe complications still have virus present in their respiratory tract at the time-point when the disease starts to evolve. Immune modulation in the presence of active infection has potential to cause more harm than benefit. Safety considerations when studying immune modulation strategies are paramount. Therefore, this study proposes to assess the efficacy of immunomodulatory agents that target dysregulated immune response that drive the severe lung, and other organ, damage. The medications investigated for efficacy in this trial are Baricitinib and Ravulizumab.\n",
      "\n",
      "\n",
      "\n",
      "NCT04386239\n",
      "['Sarilumab Prefilled Syringe']\n",
      "['Early Phase 1']\n",
      "Not yet recruiting\n",
      "Sarilumab is an anti-interleukin-6 human monoclonal antibody, such as tocilizumab, which is administered subcutaneously every two weeks for the treatment of moderate to severe active rheumatoid arthritis in adult patients. Despite the effectiveness reported for tocilizumab in the recently published experiences, the need to rapidly find alternative therapies to manage the complications of Covid-19 infection remains extremely high. The lack of clinical experience on the usage of sarilumab in such patients prevents the possibility of adopting early access programs for using commercially available sarilumab (prefilled syringe) packs in patients with severe Covid-19 pneumonia. The present study is aimed to generate a rapid, still robustly documented, evidence on the potential clinical efficacy and tolerability of a further IL-6R antagonist in Covid-19 pneumonia.\n",
      "\n",
      "\n",
      "\n",
      "NCT04363502\n",
      "['Clazakizumab']\n",
      "['Phase 2']\n",
      "Recruiting\n",
      "In this study Investigators propose to administer clazakizumab to patients with life-threatening COVID-19 infection manifest by pulmonary failure and a clinical picture consistent with a cytokine storm syndrome. This is a single-center randomized, double-blind, placebo-controlled trial in which 30 patients will be enrolled and randomly assigned in a 1:1 ratio to two study arms that will receive clazakizumab at a dose of 25 mg or placebo.\n",
      "\n",
      "\n",
      "\n",
      "NCT04348500\n",
      "['Clazakizumab']\n",
      "['Phase 2']\n",
      "Recruiting\n",
      "This is a single center, randomized, double-blind, placebo-controlled, exploratory phase II study enrolling 60 patients. We propose the administration of a blinded dose of an investigational product (IP) (clazakizumab or placebo[0.9% saline]) in patients with COVID-19 disease and signs of pulmonary involvement who have not yet required mechanical ventilation and/or ECMO. If a patient progresses to mechanical ventilation and/or ECMO or develops clinical signs of deteriorating COVID-19 disease, and there are no treatment related serious adverse events(SAEs), within the initial 14 day period after the first dose of the IP, at the discretion of the investigator or treating physician, open-label clazakizumab 25mg IV X 1 dose may be administered. A minimum of 24 hours should elapse between the first dose of IP and this dose of open-label clazakizumab. The patient will remain blinded as to the identity of the IP administered in the first dose.\n",
      "\n",
      "\n",
      "\n"
     ]
    },
    {
     "name": "stdout",
     "output_type": "stream",
     "text": [
      "NCT04412291\n",
      "['Tocilizumab Prefilled Syringe']\n",
      "['Phase 2']\n",
      "Recruiting\n",
      "The study is designed as a randomized, controlled, single-center open-label trial to compare standard-of-care (SOC) treatment with SOC + anakinra or SOC + tocilizumab treatment in hospitalized adult subjects who are diagnosed with severe COVID 19.\n",
      "\n",
      "Arm A: Standard-of-care Treatment (SOC) Arm B: Anakinra + SOC Arm C: Tocilizumab + SOC.\n",
      "\n",
      "All subjects will be treated with standard-of-care treatment and broad spectrum antibiotics initiated before or latest 24 hours after initiation of treatment with study drug.\n",
      "\n",
      "The primary follow up period of the study is 29 days\n",
      "\n",
      "\n",
      "\n",
      "NCT04357808\n",
      "['Sarilumab']\n",
      "['Phase 2']\n",
      "Recruiting\n",
      "The global health emergency created by the rapid spread of the SARS-CoV-2 coronavirus has pushed healthcare services to face unprecedent challenges to properly manage COVID-19 severe and critical manifestations affecting a wide population in a short period of time. Clinicians are committed to do their best with a great uncertainty in this evolving crisis. Off label use of plenty of drugs has arisen the need for clinical trials to demonstrate their true role in the therapy. Based in unpublished experiences in China, Italy and Spain, intravenous IL-6 receptor inhibitors are now being tested in several trials but no data on subcutaneous formulations are available yet. Sarilumab is a human monoclonal antibody that binds membrane-bound and soluble IL-6 receptors to inhibit IL-6 signalling, licensed in a subcutaneous route administration.\n",
      "\n",
      "\n",
      "\n",
      "NCT04377750\n",
      "['Tocilizumab']\n",
      "['Phase 4']\n",
      "Recruiting\n",
      "Title: The use of Tocilizumab in the management of patients who have severe COVID-19 with suspected pulmonary hyperinflammation.\n",
      "\n",
      "This is a study designed to assess the therapeutic value of intravenous tocilizumab administered as single 8mg/Kg dose in patients affected by SARS-CoV2 infection with a pulmonary manifestation causing hypoxia. Aim of the study is to test the hypothesis that anti-IL6 treatment can be effective in reducing the virus-induced cytokine storm, blocking deterioration of lung function or even promoting a rapid improvement of clinical conditions, preventing tracheal intubation and/or death.\n",
      "\n",
      "This drug will be administered to those patients entering the ICU with severe acute respiratory failure COVID-19 disease. The endpoints are death and duration of hospitalization. The patients will be assessed with surrogate markers determining the level of the cytokine storm.\n",
      "\n",
      "\n",
      "\n",
      "NCT04349410\n",
      "['Tocilizumab']\n",
      "['Phase 2', 'Phase 3']\n",
      "Completed\n",
      "Diagnostic determination of disease and treatment responses has been limited to qualitative imaging, measurement of serum markers of disease, and sampling of tissue. In each of these instances, there is a built in error either due to sensitivity and specificity issues, clinician interpretation of results, or acceptance of the use of an indirect marker (blood test) of what is happening elsewhere in the body - at the tissue level.\n",
      "\n",
      "The Fleming Method for Tissue and Vascular Differentiation and Metabolism (FMTVDM) using same state single or sequential quantification comparisons [1] provides the first and only patented test (#9566037) - along with the associated submitted patent applications ruled to be covered under #9566037 - that quantitatively measures changes in tissue resulting from inter alia a disease process. This includes inter alia coronary artery disease (CAD), cancer and infectious/inflammatory processes including CoVid-19 pneumonia (CVP) resulting from the metabolic and regional blood flow differences (RBFDs) caused by these diseases.\n",
      "\n",
      "The purpose of this paper is to make clinicians and researchers aware of this proposed method for investigating the prevalence and severity of CVP - in addition to providing rapid determination of treatment response in each patient, directing treatment decisions; thereby reducing the loss of time, money, resources and patient lives.\n",
      "\n",
      "\n",
      "\n",
      "NCT04341870\n",
      "['Sarilumab']\n",
      "['Phase 2', 'Phase 3']\n",
      "Suspended\n",
      "The overall objective of the study is to determine the therapeutic effect and tolerance of Sarilumab in combination with Azithromycin and Hydroxychloroquine, compared to Sarilumab only, patients with moderate, severe pneumonia associated with Coronavirus disease 2019 (COVID-19). Sarilumab is a human IgG1 monoclonal antibody that binds specifically to both soluble and membrane-bound IL-6Rs (sIL-6Rα and mIL-6Rα) and has been shown to inhibit IL-6-mediated signaling through these receptors. The study has a cohort multiple Randomized Controlled Trials (cmRCT) design. Randomization will occur prior to offering investigational treatments administration to patients enrolled in the CORIMUNO-19 cohort (NCT04324047). Sarilumab+Azithromycin+Hydroxychloroquine, or Sarilumab only will be administered to consenting adult patients hospitalized with COVID-19 either diagnosed with moderate or severe pneumonia requiring no mechanical ventilation. All patients will receive standard of care along with randomized investigational treatments. Outcomes of included patients will be compared between groups as well as with outcomes of patients in the CORIMUNO-19 cohort treated with other immune modulators or standard of care.\n",
      "\n",
      "\n",
      "\n",
      "NCT04343144\n",
      "['Nivolumab Injection']\n",
      "['Phase 2']\n",
      "Not yet recruiting\n",
      "It appears interesting to use nivolumab in severe patients infected with SARS-CoV-2 requiring hospitalization in conventional unit or in ICU.\n",
      "\n",
      "This protocol CORIMUNO19-NIVO therefore, will evaluate the efficacy and safety of OPTIVO® (nivolumab) COVID-19 patients hospitalized in conventional unit.\n",
      "\n",
      "The purpose of this study is to show the efficacy of nivolumab in patients with COVID-19 in combination with standard treatments.\n",
      "\n",
      "A phase 2 randomized open trial will evaluate the efficacy and safety of optivo® (nivolumab) alone versus standard of care (SoC) in patients hospitalized in conventional units.\n",
      "\n",
      "Patients will be randomly allocated 1:1 to either nivolumab or SoC.\n",
      "\n",
      "\n",
      "\n",
      "NCT04463004\n",
      "['Mavrilimumab']\n",
      "['Phase 2']\n",
      "Recruiting\n",
      "The purpose of this prospective, Phase 2, multicenter, blinded, randomized placebo controlled study is to demonstrate that early treatment with mavrilimumab prevents progression of respiratory failure in patients with severe COVID-19 pneumonia and clinical and biological features of hyper-inflammation.\n",
      "\n",
      "\n",
      "\n",
      "NCT04361032\n",
      "['Tocilizumab Injection']\n",
      "['Phase 3']\n",
      "Not yet recruiting\n",
      "Assessment of Efficacy and Safety of Tocilizumab Compared to DefeROxamine, associated with standards treatments in COVID-19 (+) patients, Hospitalized In Intensive care in Tunisia.\n",
      "\n",
      "Multicentric, comparative, randomized study.\n",
      "\n",
      "\n",
      "\n",
      "NCT04377503\n",
      "['Tocilizumab 180 MG/ML']\n",
      "['Phase 2']\n",
      "Not yet recruiting\n",
      "This study compare the efficacy and safety of tocilizumab versus methylprednisolone in the cytokine release syndrome of patients with COVID-19\n",
      "\n",
      "\n",
      "\n",
      "NCT04447469\n",
      "['mavrilimumab']\n",
      "['Phase 2', 'Phase 3']\n",
      "Recruiting\n",
      "Interventional, randomized, double-blind, placebo-controlled study encompassing 2 development phases (Phase 2 and Phase 3).\n",
      "\n",
      "\n",
      "\n",
      "NCT04363853\n",
      "['Tocilizumab']\n",
      "['Phase 2']\n",
      "Recruiting\n",
      "A phase II clinical trial will be carried out with the objective of studying the impact of the administration of Tocilizumab on the evolution of the acute respiratory distress syndrome (ARDS) in patients with severe or critical SARS-CoV-2 infection. Due to the high mortality of severe forms of SARS-CoV-2 and for ethical reasons, a control arm will not be included. Patients will be recruited by signing an informed consent and the baseline variables of interest will be recorded. Tocilizumab will be administered in one or two doses, depending on the case, and will be followed up for 30 days. The response to treatment, survival and evolution will be studied. Factors associated with improvement of ARDS and survival will be identified through multivariate analyzes. The results will be compared with those reported internationally.\n",
      "\n",
      "\n",
      "\n",
      "NCT04356937\n",
      "['Tocilizumab']\n",
      "['Phase 3']\n",
      "Active, not recruiting\n",
      "This is a randomized, double blind, multi-center study to evaluate the effects of tocilizumab compared to placebo on patient outcomes in participants with confirmed SARS-CoV-2 infection and evidence of systemic inflammation.\n",
      "\n",
      "The aim of this study is to test the effect of Tocilizumab on multi-organ dysfunction in a phase 3 randomized controlled trial among hospitalized patients with COVID-19 infection.\n",
      "\n",
      "Specifically, as compared to placebo, we will test whether tocilizumab is associated with a reduction in multi-organ dysfunction among hospitalized COVID-19 adult patients with elevated inflammatory measures. Multi-organ dysfunction will be measured as the incidence of the following composite endpoint (mechanical ventilation, renal replacement therapy, mechanical support, need for inotropes or vasopressors, liver dysfunction (increased bilirubin), and all-cause mortality). We will also assess multiple pre-specified secondary (exploratory) endpoints and safety endpoints.\n",
      "\n",
      "We hypothesize that, as compared to placebo, tocilizumab will reduce transfer to the ICU, need for mechanical ventilation, increase rates of hospital discharge in patients diagnosed with severe COVID-19 infection and evidence of exaggerated inflammatory response.\n",
      "\n",
      "\n",
      "\n",
      "NCT04492514\n",
      "['Mavrilimumab']\n",
      "['Phase 2']\n",
      "Recruiting\n",
      "The purpose of this prospective, Phase 2, multicenter, blinded, randomized placebo controlled study is to demonstrate that early treatment with mavrilimumab prevents progression of respiratory failure in patients with severe COVID-19 pneumonia and clinical and biological features of hyper-inflammation.\n",
      "\n",
      "\n",
      "\n",
      "NCT04399980\n",
      "['Mavrilimumab']\n",
      "['Phase 2']\n",
      "Recruiting\n",
      "The purpose of this prospective, Phase 2, multicenter, blinded, randomized placebo controlled study is to demonstrate that early treatment with mavrilimumab prevents progression of respiratory failure in patients with severe COVID-19 pneumonia and clinical and biological features of hyper-inflammation.\n",
      "\n",
      "\n",
      "\n"
     ]
    },
    {
     "name": "stdout",
     "output_type": "stream",
     "text": [
      "NCT04335071\n",
      "['Tocilizumab (TCZ)']\n",
      "['Phase 2']\n",
      "Recruiting\n",
      "The mortality rate of the disease caused by the corona virus induced disease (COVID-19) has been estimated to be 3.7% (WHO), which is more than 10-fold higher than the mortality of influenza. Patients with certain risk factors seem to die by an overwhelming reaction of the immune system to the virus, causing a cytokine storm with features of Cytokine-Release Syndrome (CRS) and Macrophage Activation Syndrome (MAS) and resulting in Acute Respiratory Distress Syndrome (ARDS). Several pro-inflammatory cytokines are elevated in the plasma of patients and features of MAS in COVID-19, include elevated levels of ferritin, d-dimer, and low platelets.\n",
      "\n",
      "There is increasing data that cytokine-targeted biological therapies can improve outcomes in CRS or MAS and even in sepsis. Tocilizumab (TCZ), an anti-IL-6R biological therapy, has been approved for the treatment of CRS and is used in patients with MAS. Based on these data, it is hypothesized that TCZ can reduce mortality in patients with severe COVID-19 prone to CRS and ARDS.\n",
      "\n",
      "The overall purpose of this study is to evaluate whether treatment with TCZ reduces the severity and mortality in patients with COVID-19.\n",
      "\n",
      "\n",
      "\n",
      "NCT04356508\n",
      "['Nivolumab']\n",
      "['Phase 2']\n",
      "Not yet recruiting\n",
      "This is an open-label, controlled, single-centre pilot study of nivolumab in adult patients with COVID-19. This clinical study aims to evaluate efficacy of anti-PD1 antibody in relation to viral clearance and its safety.\n",
      "\n",
      "\n",
      "\n",
      "NCT04357860\n",
      "['Sarilumab 200 MG/1.14 ML Subcutaneous Solution [KEVZARA]', 'Sarilumab 400 MG/2.28 ML Subcutaneous Solution [KEVZARA]']\n",
      "['Phase 2']\n",
      "Not yet recruiting\n",
      "Early administration of sarilumab in hospitalized patients infected with COVID-19 who have pulmonary infiltrates and are at high risk of unfavorable evolution could decrease/prevent progression to acute respiratory distress syndrome (ARDS) requiring high flow nasal oxygenation (HFNO) or either invasive or non-invasive mechanical ventilation.\n",
      "\n",
      "\n",
      "\n",
      "NCT04534725\n",
      "['Lenzilumab']\n",
      "['Phase 3']\n",
      "Not yet recruiting\n",
      "A multi-centre Australian trial with four arms aims to evaluate several different immune modulating drugs for prevention and treatment of COVID-19 specifically in the cancer population.\n",
      "\n",
      "ARM 1 is evaluating the effect of interferon-alpha (vs placebo) on the incidence of COVID-19 infection in cancer patients with no COVID-19 infection or no known COVID-19 positive contacts.\n",
      "\n",
      "ARM 2 is evaluating the effect of interferon-alpha (vs placebo) on the incidence of COVID-19 infection in cancer patients with confirmed exposure to COVID-19 virus.\n",
      "\n",
      "ARM 3 is evaluating the effect of Selinexor (vs placebo) on the incidence of COVID-19 infection in cancer patients with moderate COVID-19 infection.\n",
      "\n",
      "ARM 4 is evaluating the effect of Lenzilumab (vs placebo) on the treatment of COVID-19 infection in cancer patients with severe COVID-19 infection.\n",
      "\n",
      "Participants may become eligible and transition to different arms and treatments if they become exposed to COVID-19 or are hospitalised with an active moderate/severe COVID-19 infection.\n",
      "\n",
      "It is hoped this research will provide insight into the best practice for prevention and treatment of COVID-19 in cancer patients as emerging standard of care measures are not always suitable to this especially vulnerable population.\n",
      "\n",
      "\n",
      "\n",
      "NCT04475588\n",
      "['Itolizumab IV infusion']\n",
      "['Phase 2']\n",
      "Completed\n",
      "Randomized, Parallel Group, Active Controlled Trial\n",
      "\n",
      "\n",
      "\n",
      "NCT04339712\n",
      "['Tocilizumab']\n",
      "['Phase 2']\n",
      "Recruiting\n",
      "Our aim is to conduct one trial of personalized immunotherapy in patients with SARS-CoV-2 (COVID-19) associated with organ dysfunction and with laboratory findings of macrophage activation syndrome or immune dysregulation. These patients will be selected by the use of a panel of biomarkers and laboratory findings and they will be allocated to immunotherapy treatment according to their needs.\n",
      "\n",
      "\n",
      "\n",
      "NCT04423042\n",
      "['Tocilizumab']\n",
      "['Phase 3']\n",
      "Not yet recruiting\n",
      "This is a cohort study of COVID-19 patients with hyperinflammation. It aims to determine the impact of adjunctive Tocilizumab (TCZ) to standard of care on the reduction of hyperinflammation-related mortality in COVID-19. Patients with COVID-19 are at high risk of life-threatening hyperinflammation and death. One in three COVID-19 patients admitted to ICU was found to develop life-threatening hyperinflammation. The risk of death when untreated is estimated to be 50-80%.\n",
      "\n",
      "\n",
      "\n",
      "NCT04403685\n",
      "['Tocilizumab']\n",
      "['Phase 3']\n",
      "Terminated\n",
      "The trial evaluates the efficacy and safety of Tocilizumab, which rapidly reduces the inflammation process through inhibition of IL-6 in patients with moderate to severe COVID-19 with increased inflammatory markers. There will be two arms in the trial, one receiving the best supportive care, and the other receiving it plus tocilizumab. Patients will be followed until Day 29 after randomization.\n",
      "\n",
      "\n",
      "\n",
      "NCT04492501\n",
      "['Tocilizumab']\n",
      "['Not Applicable']\n",
      "Completed\n",
      "Beyond supportive care, there are currently no proven treatment options for coronavirus disease (COVID-19) and related pneumonia, caused by Severe Acute Respiratory Syndrome Coronavirus 2 (SARS-CoV-2).Investigators have seen recently from experience in Western countries with best health care systems that pandemics cannot be managed in hospitals. Investigators have seen ICUs crowded to capacity, healthcare workers being exposed and going to quarantine or dying after exposure to large doses of viral inoculums. Investigators recommend that institutions should register for Clinical trials and consider emergency use of TPE. In Pandemics, time is of essence to avoid mortality by intervening early with available evidence, preferably as part of clinical trial.Since the outbreak of corona virus disease (COVID-19), main treatment modalities have been antivirals, interferons, glucocorticoids, anti-coagulants and supportive treatment in addition to traditional Chinese medicine. There are also clinical trials exploring hydroxyquinoline / chloroquine sulphate, azithromycin, immunoglobulins, Vitamin-C, washed microbiota, nebulized interferon, teicoplanin as well as Mesenchymal stem cells. However, most of these trials were small and remain in the experimental phase with currently no effective / speciﬁc antiviral with robust scientific evidence as regards the mortality reduction in COVID-19.In an attempt to treat COVID-19, investigator will use different investigational treatment either alone or in combination to see mortality and morbidity benefit on the basis of limitted evidence available so far. These investigational modalities include Therapeutic plasma exchange (TPE), Convalescent Plasma (CP), Remdesivir, Tocilizumab and Mesenchymal stem cell (MSC) therapy in addition to standard supportive treatment.\n",
      "\n",
      "\n",
      "\n",
      "NCT04397497\n",
      "['Mavrilimumab']\n",
      "['Phase 2']\n",
      "Not yet recruiting\n",
      "This study is a prospective, phase II, multi-center, randomized, double-blind, placebo-controlled trial to evaluate the efficacy and safety of mavrilimumab in hospitalized patients with acute respiratory failure requiring oxygen supplementation in COVID- 19 pneumonia and a hyper-inflammatory status. The study will randomize patients to mavrilimumab or placebo, in addition to standard of care per local practice. The total trial duration will be 12 weeks after single mavrilimumab or placebo dose.\n",
      "\n",
      "\n",
      "\n",
      "NCT04370834\n",
      "['Tocilizumab']\n",
      "['Phase 2']\n",
      "Suspended\n",
      "This phase II expanded access trial will study how well tocilizumab works in reducing the serious symptoms including pneumonitis (severe acute respiratory distress) in patients with cancer and COVID-19. COVID-19 is caused by the SARS-CoV-2 virus. COVID-19 can be associated with an inflammatory response by the immune system which may also cause symptoms of COVID-19 to worsen. This inflammation may be called \"cytokine storm,\" which can cause widespread problems in the body. Tocilizumab is a medicine designed to block the action of a protein called interleukin-6 (IL-6) that is involved with the immune system and is known to be a key factor for problems with excessive inflammation. Tocilizumab is effective in treating \"cytokine storm\" from a type of cancer immunotherapy and may be effective in reducing the inflammatory response and \"cytokine storm\" seen in severe COVID-19 disease. Treating the inflammation may help to reduce symptoms, improve the ability to breathe without a breathing machine (ventilator), and prevent patients from having more complications.\n",
      "\n",
      "\n",
      "\n"
     ]
    },
    {
     "name": "stdout",
     "output_type": "stream",
     "text": [
      "A total of  50  matching entries were retrieved.\n"
     ]
    }
   ],
   "source": [
    "# use i to iterate through the indexes of hits\n",
    "i=1\n",
    "\n",
    "# use counter to record the number of \"FILTERED\" hits. We're filtering using our customized script\n",
    "counter=0\n",
    "\n",
    "while i<= totalMatches:\n",
    "    min_rnk=i\n",
    "    if min_rnk+99 <= totalMatches:  #returns max 100 hits per query\n",
    "        max_rnk=min_rnk+99\n",
    "    else:\n",
    "        max_rnk=totalMatches\n",
    "    params['min_rnk']=min_rnk\n",
    "    params['max_rnk']=max_rnk\n",
    "    i+=100\n",
    "    data=requests.get(url, params=params).json()\n",
    "\n",
    "    for study in data['FullStudiesResponse']['FullStudies']:\n",
    "        try:\n",
    "\n",
    "            # dict of fields that are most relevant to what we want\n",
    "            protSelect=study['Study']['ProtocolSection']\n",
    "\n",
    "            # check if nctid already exists in the database\n",
    "            nctInDb=True if protSelect['IdentificationModule']['NCTId'] in nctidList else False\n",
    "\n",
    "            # only process contents if nctId is not currently in the database\n",
    "\n",
    "            if nctInDb==False:\n",
    "                # if a match is found\n",
    "                found=False\n",
    "\n",
    "                # make a list of intervention names (there might be multiple mab drugs in 1 study)\n",
    "                mabs=[]\n",
    "                # make a list of phases (might be multiple phases in 1 study)\n",
    "                phases=[]\n",
    "\n",
    "                # iterate through a list of dictionaries of interventions (this include BOTH cases where \n",
    "                # intervention type = drug & intervention type = biological\n",
    "                for interv in protSelect['ArmsInterventionsModule']['InterventionList']['Intervention']:\n",
    "                    if \"mab\" in interv['InterventionName']:\n",
    "                        found=True\n",
    "                        mabs.append(interv['InterventionName'])\n",
    "\n",
    "                # if found, iterate through a list of phases\n",
    "                if found:\n",
    "                    for p in protSelect['DesignModule']['PhaseList']['Phase']:\n",
    "                        phases.append(p)\n",
    "\n",
    "                # print a summary of results\n",
    "                if found:\n",
    "                    print(protSelect['IdentificationModule']['NCTId'])\n",
    "                    print(list(set(mabs)))\n",
    "                    print(phases)\n",
    "                    try:\n",
    "                        print(protSelect['StatusModule']['OverallStatus'])\n",
    "                    except:\n",
    "                        pass\n",
    "                    print(protSelect[\"DescriptionModule\"][\"BriefSummary\"])\n",
    "                    print(\"\\n\\n\")\n",
    "                    counter +=1\n",
    "                    \n",
    "                    new_item = {'category': 'new hit from stringent search', \n",
    "                                'nctid': protSelect['IdentificationModule']['NCTId'], \n",
    "                                'name': ', '.join(list(set(mabs))), \n",
    "                                'phase': ', '.join(phases), \n",
    "                                'summary': protSelect[\"DescriptionModule\"][\"BriefSummary\"]}\n",
    "                    df = df.append(new_item, ignore_index=True)\n",
    "\n",
    "\n",
    "        # if for any reason we can't extract the field, just pass\n",
    "        except:\n",
    "            pass\n",
    "\n",
    "print(\"A total of \", counter, \" matching entries were retrieved.\")"
   ]
  },
  {
   "cell_type": "markdown",
   "metadata": {
    "pycharm": {
     "name": "#%% md\n"
    }
   },
   "source": [
    "## Query Version 2"
   ]
  },
  {
   "cell_type": "code",
   "execution_count": 9,
   "metadata": {
    "jupyter": {
     "outputs_hidden": false
    },
    "pycharm": {
     "name": "#%%\n"
    }
   },
   "outputs": [
    {
     "data": {
      "text/plain": [
       "41"
      ]
     },
     "execution_count": 9,
     "metadata": {},
     "output_type": "execute_result"
    }
   ],
   "source": [
    "params={\n",
    "    \"expr\": \"AREA[Condition]COVID-19 AND (AREA[InterventionDescription]antibody OR AREA[InterventionName]antibody OR AREA[OfficialTitle]antibody) NOT AREA[InterventionType]diagnostic NOT AREA[InterventionType]convalescent NOT AREA[InterventionType]plasma NOT AREA[OfficialTitle]convalescent NOT AREA[OfficialTitle]seroprevalence NOT AREA[OfficialTitle]serological NOT AREA[OfficialTitle]ivig NOT AREA[OfficialTitle]plasma NOT AREA[OfficialTitle]test NOT AREA[OfficialTitle]prevalence NOT AREA[OfficialTitle]polyvalent NOT AREA[OfficialTitle]vaccine\",\n",
    "    \"fmt\": \"JSON\",\n",
    "    \"min_rnk\": 1,  #starting index number (default 1, don't put 0 here)\n",
    "    \"max_rnk\": 1   #max is 100 for full studies. You have to run another query starting at 101 if needed\n",
    "\n",
    "}\n",
    "\n",
    "response=requests.get(url, params=params)\n",
    "data=response.json()\n",
    "totalMatches=data['FullStudiesResponse']['NStudiesFound']\n",
    "\n",
    "totalMatches"
   ]
  },
  {
   "cell_type": "code",
   "execution_count": 10,
   "metadata": {
    "jupyter": {
     "outputs_hidden": false
    },
    "pycharm": {
     "name": "#%%\n"
    }
   },
   "outputs": [
    {
     "name": "stdout",
     "output_type": "stream",
     "text": [
      "NCT04441918\n",
      "['Phase 1']\n",
      "A Randomized, Double-blind, Placebo-controlled, Phase I Clinical Study to Evaluate the Tolerability, Safety, Pharmacokinetic Profile and Immunogenicity of JS016 (Anti-SARS-CoV-2 Monoclonal Antibody) Injection in Chinese Healthy Subjects After Intravenous Infusion of Single Dose\n",
      "\n",
      "\n",
      "\n",
      "NCT04514302\n",
      "['Phase 1', 'Phase 2']\n",
      "Pilot Study to Evaluate Safety and Efficacy of Anti-SARS-CoV-2 Equine Immunoglobulin F(ab')2 Fragments (INOSARS) in Hospitalized Patients With COVID-19\n",
      "\n",
      "\n",
      "\n",
      "Extraction error occured for NCTId = NCT04542200\n",
      "\n",
      "Extraction error occured for NCTId = NCT04444310\n",
      "\n",
      "Extraction error occured for NCTId = NCT04537338\n",
      "\n",
      "Extraction error occured for NCTId = NCT04367402\n",
      "\n",
      "NCT04555148\n",
      "['Phase 2']\n",
      "A Prospective, Open-label, Randomized, Multi-center, Phase 2a Study to Evaluation the Dose Response, Efficacy and Safety of Hyper-Ig (Hyper-immunoglobulin) GC5131 in Patients With COVID-19\n",
      "\n",
      "\n",
      "\n",
      "Extraction error occured for NCTId = NCT04483622\n",
      "\n",
      "NCT04551898\n",
      "['Phase 2']\n",
      "A Phase 2, Randomized, Double-Blind, Placebo-Controlled Study to Evaluate the Efficacy and Safety of SARS-CoV-2 Neutralizing Antibody BGB-DXP593 in Patients WithMild-to-Moderate COVID-19\n",
      "\n",
      "\n",
      "\n",
      "NCT04545060\n",
      "['Phase 2', 'Phase 3']\n",
      "A Randomized, Multi-center, Double-blind, Placebo-controlled Study to Assess the Safety and Efficacy of Monoclonal Antibody VIR-7831 for the Early Treatment of Coronavirus Disease 2019 (COVID-19) in Non-hospitalized Patients\n",
      "\n",
      "\n",
      "\n",
      "NCT04532294\n",
      "['Phase 1']\n",
      "A First-in-Human, Randomized, Double-Blind, Placebo Controlled, Single Dose Escalation Study to Evaluate the Safety, Tolerability, Pharmacokinetics, and Immunogenicity of SARS-CoV-2 Neutralizing Antibody BGB-DXP593 in Healthy Subjects\n",
      "\n",
      "\n",
      "\n",
      "NCT04519424\n",
      "['Phase 2']\n",
      "A Phase 2, Multicenter, Double-blind, Randomized, Placebo-controlled Study to Evaluate CSL324 in Coronavirus Disease 2019 (COVID-19)\n",
      "\n",
      "\n",
      "\n",
      "NCT04533048\n",
      "['Phase 1']\n",
      "A Phase I Clinical Study to Evaluate the Safety, Tolerability, Pharmacokinetic Characteristics and Immunogenicity of a Single Dose of MW33 Injection in Healthy Subjects\n",
      "\n",
      "\n",
      "\n",
      "NCT04475575\n",
      "['Not Applicable']\n",
      "Can the Electronic Nose Smell COVID-19 Antibodies? A Proof-of-principle Study\n",
      "\n",
      "\n",
      "\n",
      "NCT04264858\n",
      "['Not Applicable']\n",
      "An Exploratory Clinical Study on the Treatment of Acute Severe 2019-nCoV Pneumonia With Immunoglobulin From Cured 2019-nCoV Pneumonia Patients\n",
      "\n",
      "\n",
      "\n",
      "NCT04454398\n",
      "['Phase 1']\n",
      "A Randomized, Placebo-controlled Study to Evaluate the Safety, Pharmacokinetics and Efficacy of a Single Dose of STI-1499 (COVI-GUARD™) in Hospitalized Patients With Moderate COVID-19\n",
      "\n",
      "\n",
      "\n",
      "Extraction error occured for NCTId = NCT04431310\n",
      "\n",
      "NCT04466657\n",
      "['Not Applicable']\n",
      "A Study to Evaluate Antioxidant Therapy for Moderate to Severe COVID-19 With or Without Comorbidities\n",
      "\n",
      "\n",
      "\n",
      "NCT04498325\n",
      "['Phase 1']\n",
      "A Phase I and Pilot Study Evaluating the Effect of NT-I7, a Long Acting Interleukin-7, to Increase Lymphocyte Counts and Enhance Immune Clearance of SARS-CoV-2\n",
      "\n",
      "\n",
      "\n",
      "Extraction error occured for NCTId = NCT04408001\n",
      "\n",
      "Extraction error occured for NCTId = NCT04344912\n",
      "\n",
      "Extraction error occured for NCTId = NCT04472013\n",
      "\n",
      "A total of  13  matching entries were retrieved.\n"
     ]
    }
   ],
   "source": [
    "# a counter to keep track of the number of FILTERED hits that we get\n",
    "counter=0\n",
    "i=1\n",
    "\n",
    "while i<= totalMatches:\n",
    "    min_rnk=i\n",
    "    if min_rnk+99 <= totalMatches:\n",
    "        max_rnk=min_rnk+99\n",
    "    else:\n",
    "        max_rnk=totalMatches\n",
    "    params['min_rnk']=min_rnk\n",
    "    params['max_rnk']=max_rnk\n",
    "    i+=100\n",
    "    data=requests.get(url, params=params).json()\n",
    "\n",
    "    for study in data['FullStudiesResponse']['FullStudies']:\n",
    "        covered=False\n",
    "        phases=[]\n",
    "\n",
    "        protSelect=study['Study']['ProtocolSection'] # dict of fields that are most relevant to what we want\n",
    "        try:\n",
    "\n",
    "            # check if nctid already exists in the database\n",
    "            nctID=study['Study']['ProtocolSection']['IdentificationModule']['NCTId']\n",
    "            if protSelect['IdentificationModule']['NCTId'].upper() in nctidList:\n",
    "                continue\n",
    "\n",
    "            for interv in protSelect['ArmsInterventionsModule']['InterventionList']['Intervention']:\n",
    "                if \"mab\" in interv['InterventionName']:\n",
    "                    covered=True\n",
    "                    \n",
    "            if covered==False:\n",
    "                for p in protSelect['DesignModule']['PhaseList']['Phase']:\n",
    "                    phases.append(p)\n",
    "\n",
    "                print(nctID)\n",
    "                print(phases)\n",
    "                #print(protSelect['ArmsInterventionsModule']['InterventionList']['Intervention'][0]['InterventionName'])\n",
    "                print(study['Study']['ProtocolSection']['IdentificationModule']['OfficialTitle'])\n",
    "                print(\"\\n\\n\")\n",
    "                counter=counter+1\n",
    "                \n",
    "            new_item = {'category': 'new hit from relaxed search', \n",
    "                        'nctid': study['Study']['ProtocolSection']['IdentificationModule']['NCTId'], \n",
    "                        'name': '', \n",
    "                        'phase': ', '.join(phases), \n",
    "                        'summary': study['Study']['ProtocolSection']['IdentificationModule']['OfficialTitle']}\n",
    "            df = df.append(new_item, ignore_index=True)\n",
    "            \n",
    "        except:\n",
    "            print(\"Extraction error occured for NCTId = \" + nctID +'\\n')\n",
    "\n",
    "\n",
    "print(\"A total of \", counter, \" matching entries were retrieved.\")"
   ]
  },
  {
   "cell_type": "markdown",
   "metadata": {},
   "source": [
    "## Write output into a CSV file for further review"
   ]
  },
  {
   "cell_type": "code",
   "execution_count": 11,
   "metadata": {},
   "outputs": [],
   "source": [
    "date = datetime.today().strftime('%Y-%m-%d')\n",
    "outfile = \"mabs_update_from_API.\" + date + \".csv\"\n",
    "df.to_csv(outfile, index= False)"
   ]
  }
 ],
 "metadata": {
  "kernelspec": {
   "display_name": "Python 3",
   "language": "python",
   "name": "python3"
  },
  "language_info": {
   "codemirror_mode": {
    "name": "ipython",
    "version": 3
   },
   "file_extension": ".py",
   "mimetype": "text/x-python",
   "name": "python",
   "nbconvert_exporter": "python",
   "pygments_lexer": "ipython3",
   "version": "3.7.0"
  }
 },
 "nbformat": 4,
 "nbformat_minor": 4
}
